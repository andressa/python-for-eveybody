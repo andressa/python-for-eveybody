{
 "cells": [
  {
   "cell_type": "markdown",
   "metadata": {},
   "source": [
    "#  Introdução ao Python"
   ]
  },
  {
   "cell_type": "markdown",
   "metadata": {},
   "source": [
    "## Código comentado e a função *print*"
   ]
  },
  {
   "cell_type": "code",
   "execution_count": 10,
   "metadata": {
    "collapsed": false
   },
   "outputs": [
    {
     "data": {
      "text/plain": [
       "'\\nComentários também podem ser escritos entre 6 aspas.\\nNormalmente, as pessoas utilizam isso para descrever o código em python que elas estão escrevendo.\\nLinhas comentadas não são executadas como comandos em Python\\n'"
      ]
     },
     "execution_count": 10,
     "metadata": {},
     "output_type": "execute_result"
    }
   ],
   "source": [
    "# Esta é uma linha comentada. Você pode escrever o que quiser em linhas que começam com o caracter #\n",
    "\"\"\"\n",
    "Comentários também podem ser escritos entre 6 aspas.\n",
    "Normalmente, as pessoas utilizam isso para descrever o código em python que elas estão escrevendo.\n",
    "Linhas comentadas não são executadas como comandos em Python\n",
    "\"\"\""
   ]
  },
  {
   "cell_type": "markdown",
   "metadata": {},
   "source": [
    "Se você remover o caracter # abaixo, você irá remover o comentário da linha. Isto significa que a linha será executada."
   ]
  },
  {
   "cell_type": "code",
   "execution_count": 13,
   "metadata": {
    "collapsed": false
   },
   "outputs": [
    {
     "name": "stdout",
     "output_type": "stream",
     "text": [
      "Olá Django Girls!\n"
     ]
    }
   ],
   "source": [
    "print (\"Olá Django Girls!\")\n",
    "#print (\"Vocês estão prontas?\")"
   ]
  },
  {
   "cell_type": "code",
   "execution_count": 14,
   "metadata": {
    "collapsed": false
   },
   "outputs": [
    {
     "ename": "SyntaxError",
     "evalue": "Missing parentheses in call to 'print' (<ipython-input-14-7db246733ca8>, line 2)",
     "output_type": "error",
     "traceback": [
      "\u001b[0;36m  File \u001b[0;32m\"<ipython-input-14-7db246733ca8>\"\u001b[0;36m, line \u001b[0;32m2\u001b[0m\n\u001b[0;31m    print \"Hello Django Girls\"\u001b[0m\n\u001b[0m                             ^\u001b[0m\n\u001b[0;31mSyntaxError\u001b[0m\u001b[0;31m:\u001b[0m Missing parentheses in call to 'print'\n"
     ]
    }
   ],
   "source": [
    "# Em Python 3 a função print exige o uso de parênteses \n",
    "print \"Hello Django Girls\""
   ]
  },
  {
   "cell_type": "markdown",
   "metadata": {},
   "source": [
    "## Variáveis"
   ]
  },
  {
   "cell_type": "markdown",
   "metadata": {},
   "source": [
    "Variáveis nada mais são do que nomes que armazenam valores que serão utilizados no decorrer de um código."
   ]
  },
  {
   "cell_type": "code",
   "execution_count": 19,
   "metadata": {
    "collapsed": false
   },
   "outputs": [
    {
     "name": "stdout",
     "output_type": "stream",
     "text": [
      "Andressa Sivolella 27\n"
     ]
    }
   ],
   "source": [
    "nome = \"Andressa Sivolella\"\n",
    "idade = 27\n",
    "print (nome, idade)"
   ]
  },
  {
   "cell_type": "markdown",
   "metadata": {},
   "source": [
    "Variáveis podem ter tipos. Aqui serão apresentados tipos básicos de variáveis, ok?"
   ]
  },
  {
   "cell_type": "code",
   "execution_count": 23,
   "metadata": {
    "collapsed": false
   },
   "outputs": [
    {
     "name": "stdout",
     "output_type": "stream",
     "text": [
      "Tipo da variável 'nome' é:  str\n"
     ]
    }
   ],
   "source": [
    "# Tipo string\n",
    "nome = \"Andressa\"\n",
    "sobrenome = \"Sivolella\"\n",
    "print (\"Tipo da variável 'nome' é: \", type(nome).__name__)"
   ]
  },
  {
   "cell_type": "code",
   "execution_count": 30,
   "metadata": {
    "collapsed": false
   },
   "outputs": [
    {
     "name": "stdout",
     "output_type": "stream",
     "text": [
      "AndressaSivolella\n",
      "8\n"
     ]
    }
   ],
   "source": [
    "# Operações com strings\n",
    "print (nome + sobrenome)\n",
    "print (len(nome))"
   ]
  },
  {
   "cell_type": "code",
   "execution_count": 24,
   "metadata": {
    "collapsed": false
   },
   "outputs": [
    {
     "name": "stdout",
     "output_type": "stream",
     "text": [
      "Tipo da variável 'idade' é:  int\n"
     ]
    }
   ],
   "source": [
    "# Tipo inteiro\n",
    "idade = 27\n",
    "print (\"Tipo da variável 'idade' é: \", type(idade).__name__)"
   ]
  },
  {
   "cell_type": "code",
   "execution_count": 27,
   "metadata": {
    "collapsed": false
   },
   "outputs": [
    {
     "name": "stdout",
     "output_type": "stream",
     "text": [
      "Tipo da variável 'peso' é:  float\n"
     ]
    }
   ],
   "source": [
    "# Tipo 'não' inteiro (a nomenclatura correta seria 'ponto-flutuante')\n",
    "peso = 60.8\n",
    "print (\"Tipo da variável 'peso' é: \", type(peso).__name__)"
   ]
  },
  {
   "cell_type": "code",
   "execution_count": 38,
   "metadata": {
    "collapsed": false
   },
   "outputs": [
    {
     "name": "stdout",
     "output_type": "stream",
     "text": [
      "Olá, meu nome é Andressa e eu tenho 27 anos =)\n"
     ]
    }
   ],
   "source": [
    "# Juntar todas as variáveis na função print\n",
    "print (\"Olá, meu nome é\", nome, \"e eu tenho\", idade, \"anos =)\")"
   ]
  },
  {
   "cell_type": "code",
   "execution_count": 42,
   "metadata": {
    "collapsed": false
   },
   "outputs": [
    {
     "ename": "NameError",
     "evalue": "name 'sbronme' is not defined",
     "output_type": "error",
     "traceback": [
      "\u001b[0;31m---------------------------------------------------------------------------\u001b[0m",
      "\u001b[0;31mNameError\u001b[0m                                 Traceback (most recent call last)",
      "\u001b[0;32m<ipython-input-42-bce6f739cc49>\u001b[0m in \u001b[0;36m<module>\u001b[0;34m()\u001b[0m\n\u001b[1;32m      1\u001b[0m \u001b[0;31m# E se digitarmos errado? Calma, pra tudo na vida há solução, principalmente em Python...\u001b[0m\u001b[0;34m\u001b[0m\u001b[0;34m\u001b[0m\u001b[0m\n\u001b[0;32m----> 2\u001b[0;31m \u001b[0mprint\u001b[0m \u001b[0;34m(\u001b[0m\u001b[0;34m\"Olá, meu sobrenome é\"\u001b[0m\u001b[0;34m,\u001b[0m \u001b[0msbronme\u001b[0m\u001b[0;34m,\u001b[0m \u001b[0;34m\"e eu tenho\"\u001b[0m\u001b[0;34m,\u001b[0m \u001b[0midade\u001b[0m\u001b[0;34m,\u001b[0m \u001b[0;34m\"anos =)\"\u001b[0m\u001b[0;34m)\u001b[0m\u001b[0;34m\u001b[0m\u001b[0m\n\u001b[0m",
      "\u001b[0;31mNameError\u001b[0m: name 'sbronme' is not defined"
     ]
    }
   ],
   "source": [
    "# E se digitarmos errado? Calma, pra tudo na vida há solução, principalmente em Python...\n",
    "print (\"Olá, meu sobrenome é\", sbronme, \"e eu tenho\", idade, \"anos =)\")"
   ]
  },
  {
   "cell_type": "markdown",
   "metadata": {},
   "source": [
    "## Estruturas em Python"
   ]
  },
  {
   "cell_type": "markdown",
   "metadata": {},
   "source": [
    "### Listas"
   ]
  },
  {
   "cell_type": "markdown",
   "metadata": {},
   "source": [
    "Listas em Python são como listas da vida real. Por exemplo, seja uma lista de compras de supermercado:\n",
    "- dúzia de ovos\n",
    "- 1kg de arroz\n",
    "- 1kg de feijão\n",
    "- 1 garrafa de matte leão"
   ]
  },
  {
   "cell_type": "code",
   "execution_count": 44,
   "metadata": {
    "collapsed": false
   },
   "outputs": [
    {
     "name": "stdout",
     "output_type": "stream",
     "text": [
      "['dúzia de ovos', '1kg de arroz', '1kg de feijão', '1 garrada de matte leão']\n"
     ]
    }
   ],
   "source": [
    "supermercado = [\n",
    "    'dúzia de ovos',\n",
    "    '1kg de arroz',\n",
    "    '1kg de feijão',\n",
    "    '1 garrada de matte leão'\n",
    "]\n",
    "print (supermercado)"
   ]
  },
  {
   "cell_type": "code",
   "execution_count": 45,
   "metadata": {
    "collapsed": false
   },
   "outputs": [
    {
     "name": "stdout",
     "output_type": "stream",
     "text": [
      "Eu tenho 4 itens na minha lista de compras\n"
     ]
    }
   ],
   "source": [
    "print (\"Eu tenho\", len(supermercado), 'itens na minha lista de compras')"
   ]
  },
  {
   "cell_type": "code",
   "execution_count": 46,
   "metadata": {
    "collapsed": false
   },
   "outputs": [
    {
     "name": "stdout",
     "output_type": "stream",
     "text": [
      "O segundo item na minha lista de compras é 1kg de arroz\n"
     ]
    }
   ],
   "source": [
    "# Só tome cuidado, a contagem dos itens em uma lista começa com o ÍNDICE 0. Logo, o segundo item é o item com ÍNDICE 1.\n",
    "print (\"O segundo item na minha lista de compras é\", supermercado[1])"
   ]
  },
  {
   "cell_type": "code",
   "execution_count": 47,
   "metadata": {
    "collapsed": true
   },
   "outputs": [],
   "source": [
    "# Ih! Esqueci um item. E agora? Não se preocupe, você pode adicionar novos itens ao longo do seu programa.\n",
    "supermercado.append(\"batata frita semi-pronta\")"
   ]
  },
  {
   "cell_type": "code",
   "execution_count": 48,
   "metadata": {
    "collapsed": false
   },
   "outputs": [
    {
     "name": "stdout",
     "output_type": "stream",
     "text": [
      "['dúzia de ovos', '1kg de arroz', '1kg de feijão', '1 garrada de matte leão', 'batata frita semi-pronta']\n"
     ]
    }
   ],
   "source": [
    "print (supermercado)"
   ]
  },
  {
   "cell_type": "code",
   "execution_count": 53,
   "metadata": {
    "collapsed": false
   },
   "outputs": [
    {
     "ename": "IndexError",
     "evalue": "list index out of range",
     "output_type": "error",
     "traceback": [
      "\u001b[0;31m---------------------------------------------------------------------------\u001b[0m",
      "\u001b[0;31mIndexError\u001b[0m                                Traceback (most recent call last)",
      "\u001b[0;32m<ipython-input-53-39f0ebf4addc>\u001b[0m in \u001b[0;36m<module>\u001b[0;34m()\u001b[0m\n\u001b[1;32m      1\u001b[0m \u001b[0;31m# E se eu tentar acessar um índice que não existe?\u001b[0m\u001b[0;34m\u001b[0m\u001b[0;34m\u001b[0m\u001b[0m\n\u001b[0;32m----> 2\u001b[0;31m \u001b[0mprint\u001b[0m \u001b[0;34m(\u001b[0m\u001b[0msupermercado\u001b[0m\u001b[0;34m[\u001b[0m\u001b[0;36m7\u001b[0m\u001b[0;34m]\u001b[0m\u001b[0;34m)\u001b[0m\u001b[0;34m\u001b[0m\u001b[0m\n\u001b[0m",
      "\u001b[0;31mIndexError\u001b[0m: list index out of range"
     ]
    }
   ],
   "source": [
    "# E se eu tentar acessar um índice que não existe?\n",
    "print (supermercado[7])"
   ]
  },
  {
   "cell_type": "markdown",
   "metadata": {},
   "source": [
    "### Dicionários"
   ]
  },
  {
   "cell_type": "code",
   "execution_count": null,
   "metadata": {
    "collapsed": true
   },
   "outputs": [],
   "source": []
  }
 ],
 "metadata": {
  "kernelspec": {
   "display_name": "Python 3",
   "language": "python",
   "name": "python3"
  },
  "language_info": {
   "codemirror_mode": {
    "name": "ipython",
    "version": 3
   },
   "file_extension": ".py",
   "mimetype": "text/x-python",
   "name": "python",
   "nbconvert_exporter": "python",
   "pygments_lexer": "ipython3",
   "version": "3.5.1"
  }
 },
 "nbformat": 4,
 "nbformat_minor": 0
}
